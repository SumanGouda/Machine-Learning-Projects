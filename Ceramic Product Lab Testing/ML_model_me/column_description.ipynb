{
 "cells": [
  {
   "cell_type": "markdown",
   "id": "7d3a9f2d",
   "metadata": {},
   "source": [
    "# 📊 Magnesia-Carbon Refractory Dataset Column Explanations\n",
    "\n",
    "## **1. Sample Identification**\n",
    "- **`sample_id`**: Unique identifier for each material sample\n",
    "- **`setting`**: Processing conditions or experimental setup\n",
    "\n",
    "## **2. Carbon Composition (Raw Ingredients)**\n",
    "- **`total_carbon_wt%`**: Total carbon content (weight percentage)\n",
    "- **`graphite_wt%`**: Graphite content (weight %)\n",
    "- **`carbon_black_wt%`**: Carbon black additive (weight %)\n",
    "- **`resin_wt%`**: Resin binder content (weight %)\n",
    "- **`pitch_wt%`**: Pitch binder content (weight %)\n",
    "- **`graphene_wt%`**: Graphene additive content (weight %)\n",
    "- **`cnt_wt%`**: Carbon nanotube content (weight %)\n",
    "- **`gnp_wt%`**: Graphene nanoplatelets content (weight %)\n",
    "- **`antioxidant_wt%`**: Antioxidant additive content (weight %)\n",
    "- **`dominant_carbon_source`**: Primary carbon material used\n",
    "\n",
    "## **3. Processing Parameters & Raw Materials**\n",
    "- **`mgo_purity_pct`**: Magnesia (MgO) raw material purity percentage\n",
    "- **`d50_micron`**: Particle size distribution (50% passing size in microns)\n",
    "\n",
    "## **4. Physical Properties (Model Outputs)**\n",
    "- **`porosity_pct`**: Porosity percentage\n",
    "- **`density_g_cm3`**: Bulk density (grams per cubic centimeter)\n",
    "- **`thermal_conductivity_W_mK`**: Thermal conductivity (Watts per meter-Kelvin)\n",
    "\n",
    "## **5. Performance & Durability Properties**\n",
    "- **`oxidation_mass_loss_pct`**: Mass loss percentage after oxidation test\n",
    "- **`oxidation_penetration_mm`**: Depth of oxidation penetration (millimeters)\n",
    "- **`hot_MOR_MPa`**: Hot Modulus of Rupture - strength at high temperature (Megapascals)\n",
    "- **`slag_contact_angle_deg`**: Wettability with molten slag (contact angle in degrees)\n",
    "- **`residual_strength_pct_after_shock`**: Percentage of strength retained after thermal shock\n",
    "\n",
    "---\n",
    "\n",
    "## 🔬 **Dataset Structure for ML Model**\n",
    "\n",
    "### **Input Features (Independent Variables)**\n",
    "```python\n",
    "composition_features = [\n",
    "    'total_carbon_wt%', 'graphite_wt%', 'carbon_black_wt%', \n",
    "    'resin_wt%', 'pitch_wt%', 'graphene_wt%', 'cnt_wt%', \n",
    "    'gnp_wt%', 'antioxidant_wt%', 'dominant_carbon_source'\n",
    "]\n",
    "\n",
    "processing_features = [\n",
    "    'setting', 'mgo_purity_pct', 'd50_micron'\n",
    "]"
   ]
  },
  {
   "cell_type": "markdown",
   "id": "f4459466",
   "metadata": {},
   "source": [
    "```python\n",
    "target_properties = [\n",
    "    'porosity_pct', 'density_g_cm3', 'thermal_conductivity_W_mK',\n",
    "    'oxidation_mass_loss_pct', 'oxidation_penetration_mm', \n",
    "    'hot_MOR_MPa', 'slag_contact_angle_deg', \n",
    "    'residual_strength_pct_after_shock'\n",
    "]"
   ]
  }
 ],
 "metadata": {
  "language_info": {
   "name": "python"
  }
 },
 "nbformat": 4,
 "nbformat_minor": 5
}
