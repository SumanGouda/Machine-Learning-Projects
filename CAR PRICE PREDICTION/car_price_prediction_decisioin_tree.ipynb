{
 "cells": [
  {
   "cell_type": "code",
   "execution_count": 1,
   "id": "f1de5420",
   "metadata": {},
   "outputs": [],
   "source": [
    "import pandas as pd\n",
    "import numpy as np\n",
    "from sklearn.tree import DecisionTreeRegressor\n",
    "from sklearn.model_selection import train_test_split\n",
    "from sklearn.metrics import r2_score"
   ]
  },
  {
   "cell_type": "code",
   "execution_count": 2,
   "id": "db575bc4",
   "metadata": {},
   "outputs": [],
   "source": [
    "df = pd.read_csv(r'D:\\PYTON PROGRAMMING\\PYTHON FILES\\Machine Learning Projects\\CAR PRICE PREDICTION\\cleaned_car_dataset.csv')"
   ]
  },
  {
   "cell_type": "code",
   "execution_count": 3,
   "id": "caeef1fe",
   "metadata": {},
   "outputs": [
    {
     "data": {
      "text/plain": [
       "Index(['ID', 'Price', 'Levy', 'Manufacturer', 'Model', 'year', 'Category',\n",
       "       'Leather interior', 'Engine volume', 'Mileage', 'Cylinders', 'Doors',\n",
       "       'Wheel', 'Color', 'Airbags', 'Engine Type', 'Gear box type_Automatic',\n",
       "       'Gear box type_Manual', 'Gear box type_Tiptronic',\n",
       "       'Gear box type_Variator', 'Drive wheels_FWD', 'Drive wheels_RWD',\n",
       "       'Fuel_Diesel', 'Fuel_Hybrid', 'Fuel_Hydrogen', 'Fuel_LPG',\n",
       "       'Fuel_Petrol', 'Fuel_Plug-in Hybrid'],\n",
       "      dtype='object')"
      ]
     },
     "execution_count": 3,
     "metadata": {},
     "output_type": "execute_result"
    }
   ],
   "source": [
    "df.columns"
   ]
  },
  {
   "cell_type": "code",
   "execution_count": 4,
   "id": "247dcd83",
   "metadata": {},
   "outputs": [
    {
     "data": {
      "text/plain": [
       "['Price',\n",
       " 'year',\n",
       " 'Leather interior',\n",
       " 'Engine volume',\n",
       " 'Mileage',\n",
       " 'Cylinders',\n",
       " 'Wheel',\n",
       " 'Airbags',\n",
       " 'Engine Type',\n",
       " 'Gear box type_Automatic',\n",
       " 'Gear box type_Manual',\n",
       " 'Gear box type_Tiptronic',\n",
       " 'Gear box type_Variator',\n",
       " 'Drive wheels_FWD',\n",
       " 'Drive wheels_RWD',\n",
       " 'Fuel_Diesel',\n",
       " 'Fuel_Hybrid',\n",
       " 'Fuel_Hydrogen',\n",
       " 'Fuel_LPG',\n",
       " 'Fuel_Petrol',\n",
       " 'Fuel_Plug-in Hybrid']"
      ]
     },
     "execution_count": 4,
     "metadata": {},
     "output_type": "execute_result"
    }
   ],
   "source": [
    "req_col = []\n",
    "for col in df.columns:\n",
    "    if col not in ['ID', 'Levy', 'Manufacturer', 'Model', 'Doors', 'Category', 'Color']:\n",
    "        req_col.append(col)\n",
    "req_col"
   ]
  },
  {
   "cell_type": "code",
   "execution_count": 5,
   "id": "8f856b72",
   "metadata": {},
   "outputs": [],
   "source": [
    "copy_df = df[req_col].copy()"
   ]
  },
  {
   "cell_type": "code",
   "execution_count": 6,
   "id": "468662be",
   "metadata": {},
   "outputs": [],
   "source": [
    "# Split and fit it into decision tree model \n",
    "x_train, x_test, y_train, y_test = train_test_split(copy_df.drop('Price', axis=1), copy_df['Price'], test_size=0.2, random_state=42)"
   ]
  },
  {
   "cell_type": "code",
   "execution_count": 7,
   "id": "abfbb94d",
   "metadata": {},
   "outputs": [
    {
     "name": "stdout",
     "output_type": "stream",
     "text": [
      "Best Parameters: {'max_depth': 15, 'max_features': None, 'min_samples_leaf': 5, 'min_samples_split': 2}\n",
      "Best Score: -177834536.57459965\n"
     ]
    }
   ],
   "source": [
    "from sklearn.model_selection import GridSearchCV\n",
    "from sklearn.tree import DecisionTreeRegressor\n",
    "\n",
    "# Define model\n",
    "dt = DecisionTreeRegressor(random_state=42)\n",
    "\n",
    "# Define parameter grid\n",
    "param_grid = {\n",
    "    'max_depth': [None, 5, 10, 15, 20],\n",
    "    'min_samples_split': [2, 5, 10, 20],\n",
    "    'min_samples_leaf': [1, 2, 5, 10],\n",
    "    'max_features': [None, 'sqrt', 'log2']\n",
    "}\n",
    "\n",
    "# Grid search\n",
    "grid_search = GridSearchCV(estimator=dt, param_grid=param_grid,\n",
    "                           cv=5, scoring='neg_mean_squared_error', n_jobs=-1)\n",
    "\n",
    "grid_search.fit(x_train, y_train)\n",
    "\n",
    "print(\"Best Parameters:\", grid_search.best_params_)\n",
    "print(\"Best Score:\", grid_search.best_score_)\n"
   ]
  },
  {
   "cell_type": "code",
   "execution_count": 8,
   "id": "c58b0032",
   "metadata": {},
   "outputs": [
    {
     "name": "stdout",
     "output_type": "stream",
     "text": [
      "MAE: 5963.717596927663\n",
      "RMSE: 10792.525418206393\n",
      "R² Score: 0.5909599550514478\n"
     ]
    }
   ],
   "source": [
    "best_model = grid_search.best_estimator_\n",
    "\n",
    "y_pred = best_model.predict(x_test)\n",
    "\n",
    "# Evaluate again\n",
    "from sklearn.metrics import mean_absolute_error, mean_squared_error, r2_score\n",
    "\n",
    "print(\"MAE:\", mean_absolute_error(y_test, y_pred))\n",
    "print(\"RMSE:\", np.sqrt(mean_squared_error(y_test, y_pred)))\n",
    "print(\"R² Score:\", r2_score(y_test, y_pred))\n"
   ]
  },
  {
   "cell_type": "code",
   "execution_count": 9,
   "id": "8ef7b5d1",
   "metadata": {},
   "outputs": [
    {
     "name": "stdout",
     "output_type": "stream",
     "text": [
      "Train RMSE: 9865.548739097889\n"
     ]
    }
   ],
   "source": [
    "y_train_pred = best_model.predict(x_train)\n",
    "train_rmse = np.sqrt(mean_squared_error(y_train, y_train_pred))\n",
    "\n",
    "print(\"Train RMSE:\", train_rmse)\n"
   ]
  },
  {
   "cell_type": "code",
   "execution_count": 10,
   "id": "31e7a5aa",
   "metadata": {},
   "outputs": [
    {
     "data": {
      "application/vnd.microsoft.datawrangler.viewer.v0+json": {
       "columns": [
        {
         "name": "index",
         "rawType": "object",
         "type": "string"
        },
        {
         "name": "Price",
         "rawType": "float64",
         "type": "float"
        }
       ],
       "ref": "cfb9fe9d-51b4-4c9f-a649-26d48926373f",
       "rows": [
        [
         "count",
         "19237.0"
        ],
        [
         "mean",
         "19409.015620938815"
        ],
        [
         "std",
         "19039.694582993176"
        ],
        [
         "min",
         "1000.0"
        ],
        [
         "25%",
         "9408.0"
        ],
        [
         "50%",
         "15053.0"
        ],
        [
         "75%",
         "23521.0"
        ],
        [
         "max",
         "872946.0"
        ]
       ],
       "shape": {
        "columns": 1,
        "rows": 8
       }
      },
      "text/plain": [
       "count     19237.000000\n",
       "mean      19409.015621\n",
       "std       19039.694583\n",
       "min        1000.000000\n",
       "25%        9408.000000\n",
       "50%       15053.000000\n",
       "75%       23521.000000\n",
       "max      872946.000000\n",
       "Name: Price, dtype: float64"
      ]
     },
     "execution_count": 10,
     "metadata": {},
     "output_type": "execute_result"
    }
   ],
   "source": [
    "copy_df['Price'].describe()"
   ]
  },
  {
   "cell_type": "code",
   "execution_count": 11,
   "id": "b301837b",
   "metadata": {},
   "outputs": [
    {
     "ename": "ImportError",
     "evalue": "cannot import name 'dtreeviz' from 'dtreeviz.trees' (C:\\Users\\LENOVO\\AppData\\Local\\Packages\\PythonSoftwareFoundation.Python.3.11_qbz5n2kfra8p0\\LocalCache\\local-packages\\Python311\\site-packages\\dtreeviz\\trees.py)",
     "output_type": "error",
     "traceback": [
      "\u001b[31m---------------------------------------------------------------------------\u001b[39m",
      "\u001b[31mImportError\u001b[39m                               Traceback (most recent call last)",
      "\u001b[36mCell\u001b[39m\u001b[36m \u001b[39m\u001b[32mIn[11]\u001b[39m\u001b[32m, line 2\u001b[39m\n\u001b[32m      1\u001b[39m \u001b[38;5;66;03m# First install: pip install dtreeviz\u001b[39;00m\n\u001b[32m----> \u001b[39m\u001b[32m2\u001b[39m \u001b[38;5;28;01mfrom\u001b[39;00m\u001b[38;5;250m \u001b[39m\u001b[34;01mdtreeviz\u001b[39;00m\u001b[34;01m.\u001b[39;00m\u001b[34;01mtrees\u001b[39;00m\u001b[38;5;250m \u001b[39m\u001b[38;5;28;01mimport\u001b[39;00m dtreeviz\n\u001b[32m      4\u001b[39m \u001b[38;5;66;03m# Create interactive visualization\u001b[39;00m\n\u001b[32m      5\u001b[39m viz = dtreeviz(best_model,\n\u001b[32m      6\u001b[39m                x_train, y_train,\n\u001b[32m      7\u001b[39m                target_name=\u001b[33m'\u001b[39m\u001b[33mPrice\u001b[39m\u001b[33m'\u001b[39m,\n\u001b[32m      8\u001b[39m                feature_names=X.columns,\n\u001b[32m      9\u001b[39m                title=\u001b[33m\"\u001b[39m\u001b[33mDecision Tree for Price Prediction\u001b[39m\u001b[33m\"\u001b[39m)\n",
      "\u001b[31mImportError\u001b[39m: cannot import name 'dtreeviz' from 'dtreeviz.trees' (C:\\Users\\LENOVO\\AppData\\Local\\Packages\\PythonSoftwareFoundation.Python.3.11_qbz5n2kfra8p0\\LocalCache\\local-packages\\Python311\\site-packages\\dtreeviz\\trees.py)"
     ]
    }
   ],
   "source": [
    "# First install: pip install dtreeviz\n",
    "from dtreeviz.trees import dtreeviz\n",
    "\n",
    "# Create interactive visualization\n",
    "viz = dtreeviz(best_model,\n",
    "               x_train, y_train,\n",
    "               target_name='Price',\n",
    "               feature_names=X.columns,\n",
    "               title=\"Decision Tree for Price Prediction\")\n",
    "viz.view()  # Opens in browser"
   ]
  }
 ],
 "metadata": {
  "kernelspec": {
   "display_name": "Python 3",
   "language": "python",
   "name": "python3"
  },
  "language_info": {
   "codemirror_mode": {
    "name": "ipython",
    "version": 3
   },
   "file_extension": ".py",
   "mimetype": "text/x-python",
   "name": "python",
   "nbconvert_exporter": "python",
   "pygments_lexer": "ipython3",
   "version": "3.11.9"
  }
 },
 "nbformat": 4,
 "nbformat_minor": 5
}
